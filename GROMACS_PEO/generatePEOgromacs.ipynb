{
 "cells": [
  {
   "cell_type": "code",
   "execution_count": 2,
   "metadata": {},
   "outputs": [],
   "source": [
    "import numpy as np\n",
    "import warnings\n",
    "warnings.filterwarnings('ignore')"
   ]
  },
  {
   "cell_type": "markdown",
   "metadata": {},
   "source": [
    "### number of segments for the PEO molecules"
   ]
  },
  {
   "cell_type": "code",
   "execution_count": 3,
   "metadata": {},
   "outputs": [],
   "source": [
    "Nseg = 2"
   ]
  },
  {
   "cell_type": "markdown",
   "metadata": {},
   "source": [
    "### box size"
   ]
  },
  {
   "cell_type": "code",
   "execution_count": 4,
   "metadata": {},
   "outputs": [],
   "source": [
    "Lx, Ly, Lz = 40, 40, 40"
   ]
  },
  {
   "cell_type": "markdown",
   "metadata": {},
   "source": [
    "### load end-groups (head) and monomere up and down"
   ]
  },
  {
   "cell_type": "code",
   "execution_count": 5,
   "metadata": {},
   "outputs": [],
   "source": [
    "endpatch = np.loadtxt('../DATA/endpatch_CH3.dat')\n",
    "monomer = np.loadtxt('../DATA/monomer.dat')\n",
    "v = 0.14 # distance between 2 monomers"
   ]
  },
  {
   "cell_type": "markdown",
   "metadata": {},
   "source": [
    "### place number of segments"
   ]
  },
  {
   "cell_type": "code",
   "execution_count": 6,
   "metadata": {},
   "outputs": [
    {
     "name": "stdout",
     "output_type": "stream",
     "text": [
      "8 18 4\n"
     ]
    }
   ],
   "source": [
    "atoms = []\n",
    "cptatoms = 0\n",
    "shift = 0\n",
    "for id, type, q, x, y, z in endpatch:\n",
    "    atoms.append([cptatoms+1, type, q, -x, y, z])\n",
    "    cptatoms+= 1\n",
    "shift = np.max(np.array(atoms)[:,3]) + v\n",
    "# place N monomers\n",
    "for seg in range(Nseg):\n",
    "    for id, type, q, x, y, z in monomer:\n",
    "        atoms.append([cptatoms+1, type, q, x+shift-np.min(monomer[:,3]), y, z])\n",
    "        cptatoms += 1  \n",
    "    shift = np.max(np.array(atoms)[:,3]) + v\n",
    "for id, type, q, x, y, z in endpatch:\n",
    "    atoms.append([cptatoms+1, type, q, x+shift+np.min(monomer[:,3]), y, z])\n",
    "    cptatoms+= 1\n",
    "shift = np.max(np.array(atoms)[:,3]) + v\n",
    "\n",
    "atoms = np.array(atoms)\n",
    "car = atoms[atoms.T[1] == 1]\n",
    "hyd = atoms[(atoms.T[1] == 3) | (atoms.T[1] == 5)]\n",
    "oxy = atoms[(atoms.T[1] == 2) | (atoms.T[1] == 4)]\n",
    "print(len(car), len(hyd), len(oxy))"
   ]
  },
  {
   "cell_type": "markdown",
   "metadata": {},
   "source": [
    "### center PEO in box"
   ]
  },
  {
   "cell_type": "code",
   "execution_count": 7,
   "metadata": {},
   "outputs": [],
   "source": [
    "atoms.T[3] -= np.mean(atoms.T[3])\n",
    "atoms.T[3] += Lx/2\n",
    "atoms.T[4] -= np.mean(atoms.T[4])\n",
    "atoms.T[4] += Ly/2\n",
    "atoms.T[5] -= np.mean(atoms.T[5])\n",
    "atoms.T[5] += Lz/2"
   ]
  },
  {
   "cell_type": "markdown",
   "metadata": {},
   "source": [
    "### estimate molar mass"
   ]
  },
  {
   "cell_type": "code",
   "execution_count": 8,
   "metadata": {},
   "outputs": [
    {
     "name": "stdout",
     "output_type": "stream",
     "text": [
      "PEO - 178 g/mol\n"
     ]
    }
   ],
   "source": [
    "molmass = len(car)*12+len(oxy)*16+len(hyd)*1\n",
    "print('PEO - '+str(molmass)+' g/mol')"
   ]
  },
  {
   "cell_type": "markdown",
   "metadata": {},
   "source": [
    "### add bonds"
   ]
  },
  {
   "cell_type": "code",
   "execution_count": 9,
   "metadata": {},
   "outputs": [],
   "source": [
    "bonds = []\n",
    "cptbonds = 0\n",
    "# carbon - carbon bonds between monomers\n",
    "cpt_CC = 0\n",
    "for C1 in car:\n",
    "    id1, _, _, x1, y1, z1 = C1\n",
    "    for C2 in car:\n",
    "        id2, _, _, x2, y2, z2 = C2\n",
    "        if id1 < id2:\n",
    "            d = np.sqrt((x1-x2)**2+(y1-y2)**2+(z1-z2)**2)\n",
    "            if d < 0.25:\n",
    "                bonds.append([id1, id2])\n",
    "                cptbonds += 1\n",
    "                cpt_CC += 1\n",
    "assert cpt_CC == (Nseg-1)+2\n",
    "\n",
    "cpt_CO = 0\n",
    "# carbon - oxygen bonds\n",
    "xyz = car.T[3:].T\n",
    "for n0 in range(len(oxy)):\n",
    "    xyz0 = oxy[n0][3:]\n",
    "    idx0 = np.int32(oxy[n0][0])\n",
    "    d = np.sqrt((xyz.T[0]-xyz0[0])**2+(xyz.T[1]-xyz0[1])**2+(xyz.T[2]-xyz0[2])**2)\n",
    "    where = np.where((d > 0) & (d < 0.15))\n",
    "    for w in where[0]:\n",
    "        idx1 = np.int32(car[w][0])\n",
    "        if idx0<idx1:\n",
    "            bonds.append([idx0, idx1])\n",
    "        else:\n",
    "            bonds.append([idx1, idx0])\n",
    "        cptbonds += 1\n",
    "        cpt_CO += 1\n",
    "assert cpt_CO == len(oxy)*2\n",
    "\n",
    "# carbon - hydrogen bonds\n",
    "cpt_CH = 0\n",
    "xyz = car.T[3:].T\n",
    "for n0 in range(len(hyd)):\n",
    "    xyz0 = hyd[n0][3:]\n",
    "    idx0 = np.int32(hyd[n0][0])\n",
    "    d = np.sqrt((xyz.T[0]-xyz0[0])**2+(xyz.T[1]-xyz0[1])**2+(xyz.T[2]-xyz0[2])**2)\n",
    "    where = np.where((d > 0) & (d < 0.11))[0]\n",
    "    if where.shape == (1,):\n",
    "        idx1 = car[where][0][0]\n",
    "        if idx0<idx1:\n",
    "            bonds.append([idx0, idx1])\n",
    "        else:\n",
    "            bonds.append([idx1, idx0])\n",
    "        cptbonds += 1  \n",
    "        cpt_CH += 1\n",
    "assert cpt_CH == len(hyd)\n",
    "\n",
    "# oxygen - hydrogen bonds\n",
    "xyz = oxy.T[3:].T\n",
    "for n0 in range(len(hyd)):\n",
    "    xyz0 = hyd[n0][3:]\n",
    "    idx0 = np.int32(hyd[n0][0])\n",
    "    d = np.sqrt((xyz.T[0]-xyz0[0])**2+(xyz.T[1]-xyz0[1])**2+(xyz.T[2]-xyz0[2])**2)\n",
    "    where = np.where((d > 0) & (d < 0.11))[0]\n",
    "    if where.shape == (1,):\n",
    "        idx1 = oxy[where][0][0]\n",
    "        if idx0<idx1:\n",
    "            bonds.append([idx0, idx1])\n",
    "        else:\n",
    "            bonds.append([idx1, idx0])\n",
    "        cptbonds += 1  \n",
    "        print(\"Irellevant for PEO\") \n",
    "# remove excess lines and reorder\n",
    "bonds = np.array(bonds)\n",
    "bonds = bonds[bonds[:, 0].argsort()]    "
   ]
  },
  {
   "cell_type": "markdown",
   "metadata": {},
   "source": [
    "### calculate angles"
   ]
  },
  {
   "cell_type": "code",
   "execution_count": 10,
   "metadata": {},
   "outputs": [],
   "source": [
    "angles = np.zeros((10000,3))\n",
    "cptangles = 0\n",
    "bonded_a = np.append(bonds.T[0],bonds.T[1])\n",
    "for a in atoms:\n",
    "    ida = np.int32(a[0])\n",
    "    tpa = np.int32(atoms[atoms.T[0] == ida].T[1])[0]\n",
    "    occurence = np.sum(bonded_a == ida)\n",
    "    if occurence > 1: # the atom has 2 or more atoms\n",
    "        id_neighbors = np.unique(bonds[(bonds.T[0] == ida) | (bonds.T[1] == ida)].T[:2].T)\n",
    "        for idb in id_neighbors:\n",
    "            for idc in id_neighbors:\n",
    "                if (idb != ida) & (idc != ida) & (idb < idc): # avoid counting same angle twice\n",
    "                    angles[cptangles] = idb, ida, idc\n",
    "                    cptangles += 1       \n",
    "angles = angles[:cptangles]"
   ]
  },
  {
   "cell_type": "markdown",
   "metadata": {},
   "source": [
    "## calculate dihedrals"
   ]
  },
  {
   "cell_type": "code",
   "execution_count": 11,
   "metadata": {},
   "outputs": [],
   "source": [
    "dihedrals = np.zeros((10000,4))\n",
    "cptdihedrals = 0\n",
    "central_angled_a = angles.T[1]\n",
    "edge_angled_a = np.append(angles.T[0],angles.T[2])\n",
    "for a in atoms:\n",
    "    ida = np.int32(a[0])\n",
    "    tpa = np.int32(atoms[atoms.T[0] == ida].T[1])[0]\n",
    "    if (tpa == 1) | (tpa == 2) | (tpa == 4): # ignore hydrogen\n",
    "        id_first_neighbor = np.unique(angles[(angles.T[1] == ida)].T[:3].T)\n",
    "        id_first_neighbor = id_first_neighbor[id_first_neighbor != ida]\n",
    "        for idb in id_first_neighbor:\n",
    "            id_second_neighbor = np.unique(angles[(angles.T[1] == idb)].T[:3].T)\n",
    "            if len(id_second_neighbor)>0:\n",
    "                id_second_neighbor = id_second_neighbor[id_second_neighbor != idb]\n",
    "                id_second_neighbor = id_second_neighbor[id_second_neighbor != ida]\n",
    "                for idc in id_first_neighbor:\n",
    "                    if idc != idb:\n",
    "                        for ide in id_second_neighbor:\n",
    "                            tpc = np.int32(atoms[atoms.T[0] == idc].T[1])[0]\n",
    "                            tpe = np.int32(atoms[atoms.T[0] == ide].T[1])[0]\n",
    "                            if (ida < idb) & (tpc != 3) & (tpe != 3) : \n",
    "                                dihedrals[cptdihedrals] = idc, ida, idb, ide\n",
    "                                cptdihedrals += 1\n",
    "dihedrals = dihedrals[:cptdihedrals]"
   ]
  },
  {
   "cell_type": "markdown",
   "metadata": {},
   "source": [
    "### write conf file"
   ]
  },
  {
   "cell_type": "code",
   "execution_count": 12,
   "metadata": {},
   "outputs": [],
   "source": [
    "f = open('conf.gro', 'w')\n",
    "f.write('PEO SYSTEM\\n')\n",
    "f.write(str(cptatoms)+'\\n')\n",
    "nc, no, nh = 0,0,0\n",
    "for n in range(cptatoms):\n",
    "    f.write(\"{: >5}\".format(str(1))) # residue number (5 positions, integer) \n",
    "    f.write(\"{: >5}\".format('PEO')) # residue name (5 characters)\n",
    "    if (atoms.T[1][n] == 3) | (atoms.T[1][n] == 5):\n",
    "        nh += 1\n",
    "        f.write(\"{: >5}\".format('H'+str(nh))) # atom name (5 characters) \n",
    "    elif (atoms.T[1][n] == 2) | (atoms.T[1][n] == 4):\n",
    "        no += 1\n",
    "        f.write(\"{: >5}\".format('O'+str(no))) # atom name (5 characters) \n",
    "    elif atoms.T[1][n] == 1:\n",
    "        nc += 1\n",
    "        f.write(\"{: >5}\".format('C'+str(nc))) # atom name (5 characters) \n",
    "    else:\n",
    "        print('extra atoms')\n",
    "    f.write(\"{: >5}\".format(str(np.int32(n+1)))) # atom number (5 positions, integer)\n",
    "    f.write(\"{: >8}\".format(str(\"{:.3f}\".format(atoms[n][3]))))# +(np.random.random()-0.5)/100)))) # position (in nm, x y z in 3 columns, each 8 positions with 3 decimal places)\n",
    "    f.write(\"{: >8}\".format(str(\"{:.3f}\".format(atoms[n][4]))))# +(np.random.random()-0.5)/100)))) # position (in nm, x y z in 3 columns, each 8 positions with 3 decimal places) \n",
    "    f.write(\"{: >8}\".format(str(\"{:.3f}\".format(atoms[n][5]))))# +(np.random.random()-0.5)/100)))) # position (in nm, x y z in 3 columns, each 8 positions with 3 decimal places) \n",
    "    f.write(\"\\n\")\n",
    "f.write(\"{: >10}\".format(str(\"{:.5f}\".format(Lx))))\n",
    "f.write(\"{: >10}\".format(str(\"{:.5f}\".format(Ly))))\n",
    "f.write(\"{: >10}\".format(str(\"{:.5f}\".format(Lz))))\n",
    "f.write(\"\\n\")\n",
    "f.close()"
   ]
  },
  {
   "cell_type": "markdown",
   "metadata": {},
   "source": [
    "### write itp file"
   ]
  },
  {
   "cell_type": "code",
   "execution_count": 14,
   "metadata": {},
   "outputs": [],
   "source": [
    "f = open('peo.itp', 'w')\n",
    "f.write('[ moleculetype ]\\n')\n",
    "f.write('PEO   2\\n\\n')\n",
    "f.write('[ atoms ]\\n')\n",
    "nc = 0\n",
    "no = 0\n",
    "nh = 0\n",
    "for n in range(cptatoms):\n",
    "    f.write(\"{: >5}\".format(str(n+1))) # atom number\n",
    "    if atoms.T[1][n] == 1:\n",
    "        f.write(\"{: >8}\".format('CC32A'))\n",
    "    elif atoms.T[1][n] == 2:\n",
    "        f.write(\"{: >8}\".format('OC30A'))\n",
    "    elif atoms.T[1][n] == 3:\n",
    "        f.write(\"{: >8}\".format('HCA2'))\n",
    "    elif atoms.T[1][n] == 4:\n",
    "        f.write(\"{: >8}\".format('OC311'))\n",
    "    elif atoms.T[1][n] == 5:\n",
    "        f.write(\"{: >8}\".format('HCP1'))\n",
    "    else:\n",
    "        print('extra atoms')    \n",
    "    f.write(\"{: >8}\".format(str(1))) # residue number\n",
    "    f.write(\"{: >8}\".format('PEO')) # residue number\n",
    "    if atoms.T[1][n] == 1:\n",
    "        nc += 1\n",
    "        f.write(\"{: >8}\".format('C'+str(nc))) # atom name\n",
    "    elif (atoms.T[1][n] == 3) | (atoms.T[1][n] == 5):\n",
    "        nh += 1\n",
    "        f.write(\"{: >8}\".format('H'+str(nh))) # atom name\n",
    "    elif (atoms.T[1][n] == 2) | (atoms.T[1][n] == 4):\n",
    "        no += 1\n",
    "        f.write(\"{: >8}\".format('O'+str(no))) # atom name\n",
    "    f.write(\"{: >8}\".format(str(np.int32(n+1))))\n",
    "    f.write(\"{: >8}\".format(str(\"{:.3f}\".format(atoms.T[2][n]))))\n",
    "    if atoms.T[1][n] == 1:\n",
    "        f.write(\"{: >8}\".format(str(\"{:.3f}\".format(12.011))))\n",
    "    elif (atoms.T[1][n] == 3) | (atoms.T[1][n] == 5):\n",
    "        f.write(\"{: >8}\".format(str(\"{:.3f}\".format(1.008))))    \n",
    "    elif (atoms.T[1][n] == 2) | (atoms.T[1][n] == 4):\n",
    "        f.write(\"{: >8}\".format(str(\"{:.3f}\".format(15.9994)))) \n",
    "    f.write(\"\\n\") \n",
    "f.write(\"\\n\")  \n",
    "f.write('[ bonds ]\\n')  \n",
    "for n in range(cptbonds):\n",
    "    f.write(\"{: >5}\".format(str(np.int32(bonds[n][0]))))\n",
    "    f.write(\"{: >5}\".format(str(np.int32(bonds[n][1]))))\n",
    "    f.write(\"{: >5}\".format(str(np.int32(1))))\n",
    "    f.write(\"\\n\")\n",
    "f.write(\"\\n\")  \n",
    "f.write('[ angles ]\\n')  \n",
    "for n in range(cptangles):\n",
    "    f.write(\"{: >5}\".format(str(np.int32(angles[n][0]))))\n",
    "    f.write(\"{: >5}\".format(str(np.int32(angles[n][1]))))\n",
    "    f.write(\"{: >5}\".format(str(np.int32(angles[n][2]))))\n",
    "    f.write(\"{: >5}\".format(str(np.int32(5))))\n",
    "    f.write(\"\\n\")\n",
    "f.write(\"\\n\")  \n",
    "f.write('[ dihedrals ]\\n')  \n",
    "for n in range(cptdihedrals):\n",
    "    f.write(\"{: >5}\".format(str(np.int32(dihedrals[n][0]))))\n",
    "    f.write(\"{: >5}\".format(str(np.int32(dihedrals[n][1]))))\n",
    "    f.write(\"{: >5}\".format(str(np.int32(dihedrals[n][2]))))\n",
    "    f.write(\"{: >5}\".format(str(np.int32(dihedrals[n][3]))))\n",
    "    f.write(\"{: >5}\".format(str(np.int32(9))))\n",
    "    f.write(\"\\n\")\n",
    "f.close()"
   ]
  }
 ],
 "metadata": {
  "kernelspec": {
   "display_name": "Python 3",
   "language": "python",
   "name": "python3"
  },
  "language_info": {
   "codemirror_mode": {
    "name": "ipython",
    "version": 3
   },
   "file_extension": ".py",
   "mimetype": "text/x-python",
   "name": "python",
   "nbconvert_exporter": "python",
   "pygments_lexer": "ipython3",
   "version": "3.11.6"
  }
 },
 "nbformat": 4,
 "nbformat_minor": 4
}
